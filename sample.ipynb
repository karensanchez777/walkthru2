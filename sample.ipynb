{
 "cells": [
  {
   "cell_type": "markdown",
   "id": "71f081eb-36e2-4daa-973f-d482871e2e75",
   "metadata": {
    "tags": []
   },
   "source": [
    "## Sample notebook"
   ]
  },
  {
   "cell_type": "markdown",
   "id": "b284569b-5669-4ea6-9814-c628edc7d996",
   "metadata": {},
   "source": [
    "This is how we calculate 1+1"
   ]
  },
  {
   "cell_type": "code",
   "execution_count": 1,
   "id": "f90908d8-4959-4f85-b4b9-84467669b8e2",
   "metadata": {},
   "outputs": [
    {
     "data": {
      "text/plain": [
       "2"
      ]
     },
     "execution_count": 1,
     "metadata": {},
     "output_type": "execute_result"
    }
   ],
   "source": [
    "1+1"
   ]
  },
  {
   "cell_type": "code",
   "execution_count": null,
   "id": "a9ea9bc4-666c-43d8-8744-e5acb26e0259",
   "metadata": {},
   "outputs": [],
   "source": []
  }
 ],
 "metadata": {
  "kernelspec": {
   "display_name": "Python 3 (ipykernel)",
   "language": "python",
   "name": "python3"
  },
  "language_info": {
   "codemirror_mode": {
    "name": "ipython",
    "version": 3
   },
   "file_extension": ".py",
   "mimetype": "text/x-python",
   "name": "python",
   "nbconvert_exporter": "python",
   "pygments_lexer": "ipython3",
   "version": "3.10.6"
  }
 },
 "nbformat": 4,
 "nbformat_minor": 5
}
